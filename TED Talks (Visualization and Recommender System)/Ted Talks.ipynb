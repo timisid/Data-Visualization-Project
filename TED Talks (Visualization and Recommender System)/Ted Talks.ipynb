{
 "cells": [
  {
   "cell_type": "markdown",
   "metadata": {},
   "source": [
    "# Ted Talks Dataset\n",
    "dataset source : https://www.kaggle.com/rounakbanik/ted-talks"
   ]
  },
  {
   "cell_type": "markdown",
   "metadata": {},
   "source": [
    "## Data Extraction"
   ]
  },
  {
   "cell_type": "code",
   "execution_count": 1,
   "metadata": {},
   "outputs": [],
   "source": [
    "import pandas as pd\n",
    "import numpy as np\n",
    "import seaborn as sns\n",
    "import matplotlib.pyplot as plt"
   ]
  },
  {
   "cell_type": "code",
   "execution_count": 2,
   "metadata": {},
   "outputs": [],
   "source": [
    "df1 = pd.read_csv('ted_main.csv')\n",
    "df2 = pd.read_csv('ted_transcripts.csv')"
   ]
  },
  {
   "cell_type": "code",
   "execution_count": 3,
   "metadata": {},
   "outputs": [
    {
     "data": {
      "text/html": [
       "<div>\n",
       "<style scoped>\n",
       "    .dataframe tbody tr th:only-of-type {\n",
       "        vertical-align: middle;\n",
       "    }\n",
       "\n",
       "    .dataframe tbody tr th {\n",
       "        vertical-align: top;\n",
       "    }\n",
       "\n",
       "    .dataframe thead th {\n",
       "        text-align: right;\n",
       "    }\n",
       "</style>\n",
       "<table border=\"1\" class=\"dataframe\">\n",
       "  <thead>\n",
       "    <tr style=\"text-align: right;\">\n",
       "      <th></th>\n",
       "      <th>comments</th>\n",
       "      <th>description</th>\n",
       "      <th>duration</th>\n",
       "      <th>event</th>\n",
       "      <th>film_date</th>\n",
       "      <th>languages</th>\n",
       "      <th>main_speaker</th>\n",
       "      <th>name</th>\n",
       "      <th>num_speaker</th>\n",
       "      <th>published_date</th>\n",
       "      <th>ratings</th>\n",
       "      <th>related_talks</th>\n",
       "      <th>speaker_occupation</th>\n",
       "      <th>tags</th>\n",
       "      <th>title</th>\n",
       "      <th>url</th>\n",
       "      <th>views</th>\n",
       "    </tr>\n",
       "  </thead>\n",
       "  <tbody>\n",
       "    <tr>\n",
       "      <th>0</th>\n",
       "      <td>4553</td>\n",
       "      <td>Sir Ken Robinson makes an entertaining and pro...</td>\n",
       "      <td>1164</td>\n",
       "      <td>TED2006</td>\n",
       "      <td>1140825600</td>\n",
       "      <td>60</td>\n",
       "      <td>Ken Robinson</td>\n",
       "      <td>Ken Robinson: Do schools kill creativity?</td>\n",
       "      <td>1</td>\n",
       "      <td>1151367060</td>\n",
       "      <td>[{'id': 7, 'name': 'Funny', 'count': 19645}, {...</td>\n",
       "      <td>[{'id': 865, 'hero': 'https://pe.tedcdn.com/im...</td>\n",
       "      <td>Author/educator</td>\n",
       "      <td>['children', 'creativity', 'culture', 'dance',...</td>\n",
       "      <td>Do schools kill creativity?</td>\n",
       "      <td>https://www.ted.com/talks/ken_robinson_says_sc...</td>\n",
       "      <td>47227110</td>\n",
       "    </tr>\n",
       "    <tr>\n",
       "      <th>1</th>\n",
       "      <td>265</td>\n",
       "      <td>With the same humor and humanity he exuded in ...</td>\n",
       "      <td>977</td>\n",
       "      <td>TED2006</td>\n",
       "      <td>1140825600</td>\n",
       "      <td>43</td>\n",
       "      <td>Al Gore</td>\n",
       "      <td>Al Gore: Averting the climate crisis</td>\n",
       "      <td>1</td>\n",
       "      <td>1151367060</td>\n",
       "      <td>[{'id': 7, 'name': 'Funny', 'count': 544}, {'i...</td>\n",
       "      <td>[{'id': 243, 'hero': 'https://pe.tedcdn.com/im...</td>\n",
       "      <td>Climate advocate</td>\n",
       "      <td>['alternative energy', 'cars', 'climate change...</td>\n",
       "      <td>Averting the climate crisis</td>\n",
       "      <td>https://www.ted.com/talks/al_gore_on_averting_...</td>\n",
       "      <td>3200520</td>\n",
       "    </tr>\n",
       "  </tbody>\n",
       "</table>\n",
       "</div>"
      ],
      "text/plain": [
       "   comments                                        description  duration  \\\n",
       "0      4553  Sir Ken Robinson makes an entertaining and pro...      1164   \n",
       "1       265  With the same humor and humanity he exuded in ...       977   \n",
       "\n",
       "     event   film_date  languages  main_speaker  \\\n",
       "0  TED2006  1140825600         60  Ken Robinson   \n",
       "1  TED2006  1140825600         43       Al Gore   \n",
       "\n",
       "                                        name  num_speaker  published_date  \\\n",
       "0  Ken Robinson: Do schools kill creativity?            1      1151367060   \n",
       "1       Al Gore: Averting the climate crisis            1      1151367060   \n",
       "\n",
       "                                             ratings  \\\n",
       "0  [{'id': 7, 'name': 'Funny', 'count': 19645}, {...   \n",
       "1  [{'id': 7, 'name': 'Funny', 'count': 544}, {'i...   \n",
       "\n",
       "                                       related_talks speaker_occupation  \\\n",
       "0  [{'id': 865, 'hero': 'https://pe.tedcdn.com/im...    Author/educator   \n",
       "1  [{'id': 243, 'hero': 'https://pe.tedcdn.com/im...   Climate advocate   \n",
       "\n",
       "                                                tags  \\\n",
       "0  ['children', 'creativity', 'culture', 'dance',...   \n",
       "1  ['alternative energy', 'cars', 'climate change...   \n",
       "\n",
       "                         title  \\\n",
       "0  Do schools kill creativity?   \n",
       "1  Averting the climate crisis   \n",
       "\n",
       "                                                 url     views  \n",
       "0  https://www.ted.com/talks/ken_robinson_says_sc...  47227110  \n",
       "1  https://www.ted.com/talks/al_gore_on_averting_...   3200520  "
      ]
     },
     "execution_count": 3,
     "metadata": {},
     "output_type": "execute_result"
    }
   ],
   "source": [
    "df1.head(2)"
   ]
  },
  {
   "cell_type": "code",
   "execution_count": 4,
   "metadata": {},
   "outputs": [],
   "source": [
    "import datetime\n",
    "df1['film_date'] = df1['film_date'].apply(lambda x: datetime.datetime.fromtimestamp( int(x)).strftime('%d-%m-%Y'))\n",
    "df1['published_date'] = df1['published_date'].apply(lambda x: datetime.datetime.fromtimestamp( int(x)).strftime('%d-%m-%Y'))"
   ]
  },
  {
   "cell_type": "code",
   "execution_count": 5,
   "metadata": {},
   "outputs": [
    {
     "data": {
      "text/html": [
       "<div>\n",
       "<style scoped>\n",
       "    .dataframe tbody tr th:only-of-type {\n",
       "        vertical-align: middle;\n",
       "    }\n",
       "\n",
       "    .dataframe tbody tr th {\n",
       "        vertical-align: top;\n",
       "    }\n",
       "\n",
       "    .dataframe thead th {\n",
       "        text-align: right;\n",
       "    }\n",
       "</style>\n",
       "<table border=\"1\" class=\"dataframe\">\n",
       "  <thead>\n",
       "    <tr style=\"text-align: right;\">\n",
       "      <th></th>\n",
       "      <th>comments</th>\n",
       "      <th>description</th>\n",
       "      <th>duration</th>\n",
       "      <th>event</th>\n",
       "      <th>film_date</th>\n",
       "      <th>languages</th>\n",
       "      <th>main_speaker</th>\n",
       "      <th>name</th>\n",
       "      <th>num_speaker</th>\n",
       "      <th>published_date</th>\n",
       "      <th>ratings</th>\n",
       "      <th>related_talks</th>\n",
       "      <th>speaker_occupation</th>\n",
       "      <th>tags</th>\n",
       "      <th>title</th>\n",
       "      <th>url</th>\n",
       "      <th>views</th>\n",
       "    </tr>\n",
       "  </thead>\n",
       "  <tbody>\n",
       "    <tr>\n",
       "      <th>0</th>\n",
       "      <td>4553</td>\n",
       "      <td>Sir Ken Robinson makes an entertaining and pro...</td>\n",
       "      <td>1164</td>\n",
       "      <td>TED2006</td>\n",
       "      <td>25-02-2006</td>\n",
       "      <td>60</td>\n",
       "      <td>Ken Robinson</td>\n",
       "      <td>Ken Robinson: Do schools kill creativity?</td>\n",
       "      <td>1</td>\n",
       "      <td>27-06-2006</td>\n",
       "      <td>[{'id': 7, 'name': 'Funny', 'count': 19645}, {...</td>\n",
       "      <td>[{'id': 865, 'hero': 'https://pe.tedcdn.com/im...</td>\n",
       "      <td>Author/educator</td>\n",
       "      <td>['children', 'creativity', 'culture', 'dance',...</td>\n",
       "      <td>Do schools kill creativity?</td>\n",
       "      <td>https://www.ted.com/talks/ken_robinson_says_sc...</td>\n",
       "      <td>47227110</td>\n",
       "    </tr>\n",
       "  </tbody>\n",
       "</table>\n",
       "</div>"
      ],
      "text/plain": [
       "   comments                                        description  duration  \\\n",
       "0      4553  Sir Ken Robinson makes an entertaining and pro...      1164   \n",
       "\n",
       "     event   film_date  languages  main_speaker  \\\n",
       "0  TED2006  25-02-2006         60  Ken Robinson   \n",
       "\n",
       "                                        name  num_speaker published_date  \\\n",
       "0  Ken Robinson: Do schools kill creativity?            1     27-06-2006   \n",
       "\n",
       "                                             ratings  \\\n",
       "0  [{'id': 7, 'name': 'Funny', 'count': 19645}, {...   \n",
       "\n",
       "                                       related_talks speaker_occupation  \\\n",
       "0  [{'id': 865, 'hero': 'https://pe.tedcdn.com/im...    Author/educator   \n",
       "\n",
       "                                                tags  \\\n",
       "0  ['children', 'creativity', 'culture', 'dance',...   \n",
       "\n",
       "                         title  \\\n",
       "0  Do schools kill creativity?   \n",
       "\n",
       "                                                 url     views  \n",
       "0  https://www.ted.com/talks/ken_robinson_says_sc...  47227110  "
      ]
     },
     "execution_count": 5,
     "metadata": {},
     "output_type": "execute_result"
    }
   ],
   "source": [
    "df1.head(1)"
   ]
  },
  {
   "cell_type": "code",
   "execution_count": 6,
   "metadata": {},
   "outputs": [
    {
     "name": "stdout",
     "output_type": "stream",
     "text": [
      "<class 'pandas.core.frame.DataFrame'>\n",
      "RangeIndex: 2550 entries, 0 to 2549\n",
      "Data columns (total 17 columns):\n",
      "comments              2550 non-null int64\n",
      "description           2550 non-null object\n",
      "duration              2550 non-null int64\n",
      "event                 2550 non-null object\n",
      "film_date             2550 non-null object\n",
      "languages             2550 non-null int64\n",
      "main_speaker          2550 non-null object\n",
      "name                  2550 non-null object\n",
      "num_speaker           2550 non-null int64\n",
      "published_date        2550 non-null object\n",
      "ratings               2550 non-null object\n",
      "related_talks         2550 non-null object\n",
      "speaker_occupation    2544 non-null object\n",
      "tags                  2550 non-null object\n",
      "title                 2550 non-null object\n",
      "url                   2550 non-null object\n",
      "views                 2550 non-null int64\n",
      "dtypes: int64(5), object(12)\n",
      "memory usage: 338.8+ KB\n"
     ]
    }
   ],
   "source": [
    "df1.info()"
   ]
  },
  {
   "cell_type": "code",
   "execution_count": 7,
   "metadata": {},
   "outputs": [
    {
     "data": {
      "text/plain": [
       "comments               559\n",
       "description           2550\n",
       "duration              1083\n",
       "event                  355\n",
       "film_date              732\n",
       "languages               66\n",
       "main_speaker          2156\n",
       "name                  2550\n",
       "num_speaker              5\n",
       "published_date        2365\n",
       "ratings               2550\n",
       "related_talks         2550\n",
       "speaker_occupation    1458\n",
       "tags                  2530\n",
       "title                 2550\n",
       "url                   2550\n",
       "views                 2550\n",
       "dtype: int64"
      ]
     },
     "execution_count": 7,
     "metadata": {},
     "output_type": "execute_result"
    }
   ],
   "source": [
    "df1.nunique()"
   ]
  },
  {
   "cell_type": "code",
   "execution_count": 8,
   "metadata": {},
   "outputs": [
    {
     "data": {
      "text/plain": [
       "comments              0\n",
       "description           0\n",
       "duration              0\n",
       "event                 0\n",
       "film_date             0\n",
       "languages             0\n",
       "main_speaker          0\n",
       "name                  0\n",
       "num_speaker           0\n",
       "published_date        0\n",
       "ratings               0\n",
       "related_talks         0\n",
       "speaker_occupation    6\n",
       "tags                  0\n",
       "title                 0\n",
       "url                   0\n",
       "views                 0\n",
       "dtype: int64"
      ]
     },
     "execution_count": 8,
     "metadata": {},
     "output_type": "execute_result"
    }
   ],
   "source": [
    "df1.isnull().sum()"
   ]
  },
  {
   "cell_type": "code",
   "execution_count": 9,
   "metadata": {},
   "outputs": [],
   "source": [
    "df1.dropna(subset=['speaker_occupation'],inplace=True)"
   ]
  },
  {
   "cell_type": "code",
   "execution_count": 10,
   "metadata": {},
   "outputs": [],
   "source": [
    "df1.reset_index(inplace=True)"
   ]
  },
  {
   "cell_type": "markdown",
   "metadata": {},
   "source": [
    "# Graphic"
   ]
  },
  {
   "cell_type": "code",
   "execution_count": 11,
   "metadata": {},
   "outputs": [],
   "source": [
    "df1_new = df1[['comments', 'event', 'main_speaker','title', 'speaker_occupation', 'views', 'published_date']]"
   ]
  },
  {
   "cell_type": "code",
   "execution_count": 12,
   "metadata": {},
   "outputs": [
    {
     "data": {
      "text/html": [
       "<div>\n",
       "<style scoped>\n",
       "    .dataframe tbody tr th:only-of-type {\n",
       "        vertical-align: middle;\n",
       "    }\n",
       "\n",
       "    .dataframe tbody tr th {\n",
       "        vertical-align: top;\n",
       "    }\n",
       "\n",
       "    .dataframe thead th {\n",
       "        text-align: right;\n",
       "    }\n",
       "</style>\n",
       "<table border=\"1\" class=\"dataframe\">\n",
       "  <thead>\n",
       "    <tr style=\"text-align: right;\">\n",
       "      <th></th>\n",
       "      <th>comments</th>\n",
       "      <th>event</th>\n",
       "      <th>main_speaker</th>\n",
       "      <th>title</th>\n",
       "      <th>speaker_occupation</th>\n",
       "      <th>views</th>\n",
       "      <th>published_date</th>\n",
       "    </tr>\n",
       "  </thead>\n",
       "  <tbody>\n",
       "    <tr>\n",
       "      <th>0</th>\n",
       "      <td>4553</td>\n",
       "      <td>TED2006</td>\n",
       "      <td>Ken Robinson</td>\n",
       "      <td>Do schools kill creativity?</td>\n",
       "      <td>Author/educator</td>\n",
       "      <td>47227110</td>\n",
       "      <td>27-06-2006</td>\n",
       "    </tr>\n",
       "    <tr>\n",
       "      <th>1</th>\n",
       "      <td>265</td>\n",
       "      <td>TED2006</td>\n",
       "      <td>Al Gore</td>\n",
       "      <td>Averting the climate crisis</td>\n",
       "      <td>Climate advocate</td>\n",
       "      <td>3200520</td>\n",
       "      <td>27-06-2006</td>\n",
       "    </tr>\n",
       "    <tr>\n",
       "      <th>2</th>\n",
       "      <td>124</td>\n",
       "      <td>TED2006</td>\n",
       "      <td>David Pogue</td>\n",
       "      <td>Simplicity sells</td>\n",
       "      <td>Technology columnist</td>\n",
       "      <td>1636292</td>\n",
       "      <td>27-06-2006</td>\n",
       "    </tr>\n",
       "    <tr>\n",
       "      <th>3</th>\n",
       "      <td>200</td>\n",
       "      <td>TED2006</td>\n",
       "      <td>Majora Carter</td>\n",
       "      <td>Greening the ghetto</td>\n",
       "      <td>Activist for environmental justice</td>\n",
       "      <td>1697550</td>\n",
       "      <td>27-06-2006</td>\n",
       "    </tr>\n",
       "    <tr>\n",
       "      <th>4</th>\n",
       "      <td>593</td>\n",
       "      <td>TED2006</td>\n",
       "      <td>Hans Rosling</td>\n",
       "      <td>The best stats you've ever seen</td>\n",
       "      <td>Global health expert; data visionary</td>\n",
       "      <td>12005869</td>\n",
       "      <td>28-06-2006</td>\n",
       "    </tr>\n",
       "  </tbody>\n",
       "</table>\n",
       "</div>"
      ],
      "text/plain": [
       "   comments    event   main_speaker                            title  \\\n",
       "0      4553  TED2006   Ken Robinson      Do schools kill creativity?   \n",
       "1       265  TED2006        Al Gore      Averting the climate crisis   \n",
       "2       124  TED2006    David Pogue                 Simplicity sells   \n",
       "3       200  TED2006  Majora Carter              Greening the ghetto   \n",
       "4       593  TED2006   Hans Rosling  The best stats you've ever seen   \n",
       "\n",
       "                     speaker_occupation     views published_date  \n",
       "0                       Author/educator  47227110     27-06-2006  \n",
       "1                      Climate advocate   3200520     27-06-2006  \n",
       "2                  Technology columnist   1636292     27-06-2006  \n",
       "3    Activist for environmental justice   1697550     27-06-2006  \n",
       "4  Global health expert; data visionary  12005869     28-06-2006  "
      ]
     },
     "execution_count": 12,
     "metadata": {},
     "output_type": "execute_result"
    }
   ],
   "source": [
    "df1_new.head()"
   ]
  },
  {
   "cell_type": "markdown",
   "metadata": {},
   "source": [
    "### Speakers"
   ]
  },
  {
   "cell_type": "code",
   "execution_count": 13,
   "metadata": {},
   "outputs": [
    {
     "data": {
      "text/plain": [
       "[Text(0.5, 1.0, \"top 15 speakers occupation\")]"
      ]
     },
     "execution_count": 13,
     "metadata": {},
     "output_type": "execute_result"
    },
    {
     "data": {
      "image/png": "[encoded data removed]",
      "text/plain": [
       "<Figure size 1224x360 with 1 Axes>"
      ]
     },
     "metadata": {
      "needs_background": "light"
     },
     "output_type": "display_data"
    }
   ],
   "source": [
    "fig,ax=plt.subplots(figsize=(17,5))\n",
    "a=sns.barplot(y=df1_new['speaker_occupation'].value_counts(ascending=False).head(15).index, \n",
    "              x=df1_new['speaker_occupation'].value_counts(ascending=False).head(15).values, ax=ax, palette='afmhot')\n",
    "a.set(title=\"top 15 speaker's occupation\")"
   ]
  },
  {
   "cell_type": "markdown",
   "metadata": {},
   "source": [
    "#### based on the graph we can see that the most speakers invited to give speech are writers, and it's about more than 40. assume that the writers spend more time on planning,forming, and researching the topics based what they wrote or their experienced with. the second and the third place was public figure based on art field: artists and designers. the rest of the speakers mostly is an expert on their field related with science and entertainment"
   ]
  },
  {
   "cell_type": "code",
   "execution_count": 14,
   "metadata": {},
   "outputs": [
    {
     "data": {
      "text/html": [
       "<div>\n",
       "<style scoped>\n",
       "    .dataframe tbody tr th:only-of-type {\n",
       "        vertical-align: middle;\n",
       "    }\n",
       "\n",
       "    .dataframe tbody tr th {\n",
       "        vertical-align: top;\n",
       "    }\n",
       "\n",
       "    .dataframe thead th {\n",
       "        text-align: right;\n",
       "    }\n",
       "</style>\n",
       "<table border=\"1\" class=\"dataframe\">\n",
       "  <thead>\n",
       "    <tr style=\"text-align: right;\">\n",
       "      <th></th>\n",
       "      <th>comments</th>\n",
       "      <th>event</th>\n",
       "      <th>main_speaker</th>\n",
       "      <th>title</th>\n",
       "      <th>speaker_occupation</th>\n",
       "      <th>views</th>\n",
       "      <th>published_date</th>\n",
       "    </tr>\n",
       "  </thead>\n",
       "  <tbody>\n",
       "    <tr>\n",
       "      <th>784</th>\n",
       "      <td>342</td>\n",
       "      <td>TEDxChange</td>\n",
       "      <td>Hans Rosling</td>\n",
       "      <td>The good news of the decade? We're winning the...</td>\n",
       "      <td>Global health expert; data visionary</td>\n",
       "      <td>738895</td>\n",
       "      <td>07-10-2010</td>\n",
       "    </tr>\n",
       "    <tr>\n",
       "      <th>447</th>\n",
       "      <td>125</td>\n",
       "      <td>TED2009</td>\n",
       "      <td>Hans Rosling</td>\n",
       "      <td>Insights on HIV, in stunning data visuals</td>\n",
       "      <td>Global health expert; data visionary</td>\n",
       "      <td>904813</td>\n",
       "      <td>13-05-2009</td>\n",
       "    </tr>\n",
       "    <tr>\n",
       "      <th>502</th>\n",
       "      <td>122</td>\n",
       "      <td>TED@State</td>\n",
       "      <td>Hans Rosling</td>\n",
       "      <td>Let my dataset change your mindset</td>\n",
       "      <td>Global health expert; data visionary</td>\n",
       "      <td>1471039</td>\n",
       "      <td>27-08-2009</td>\n",
       "    </tr>\n",
       "    <tr>\n",
       "      <th>558</th>\n",
       "      <td>276</td>\n",
       "      <td>TEDIndia 2009</td>\n",
       "      <td>Hans Rosling</td>\n",
       "      <td>Asia's rise -- how and when</td>\n",
       "      <td>Global health expert; data visionary</td>\n",
       "      <td>1738069</td>\n",
       "      <td>23-11-2009</td>\n",
       "    </tr>\n",
       "    <tr>\n",
       "      <th>1236</th>\n",
       "      <td>491</td>\n",
       "      <td>TEDxSummit</td>\n",
       "      <td>Hans Rosling</td>\n",
       "      <td>Religions and babies</td>\n",
       "      <td>Global health expert; data visionary</td>\n",
       "      <td>2138419</td>\n",
       "      <td>22-05-2012</td>\n",
       "    </tr>\n",
       "    <tr>\n",
       "      <th>893</th>\n",
       "      <td>268</td>\n",
       "      <td>TEDWomen 2010</td>\n",
       "      <td>Hans Rosling</td>\n",
       "      <td>The magic washing machine</td>\n",
       "      <td>Global health expert; data visionary</td>\n",
       "      <td>2391977</td>\n",
       "      <td>21-03-2011</td>\n",
       "    </tr>\n",
       "    <tr>\n",
       "      <th>726</th>\n",
       "      <td>607</td>\n",
       "      <td>TED@Cannes</td>\n",
       "      <td>Hans Rosling</td>\n",
       "      <td>Global population growth, box by box</td>\n",
       "      <td>Global health expert; data visionary</td>\n",
       "      <td>2934262</td>\n",
       "      <td>09-07-2010</td>\n",
       "    </tr>\n",
       "    <tr>\n",
       "      <th>117</th>\n",
       "      <td>261</td>\n",
       "      <td>TED2007</td>\n",
       "      <td>Hans Rosling</td>\n",
       "      <td>New insights on poverty</td>\n",
       "      <td>Global health expert; data visionary</td>\n",
       "      <td>3243784</td>\n",
       "      <td>25-06-2007</td>\n",
       "    </tr>\n",
       "    <tr>\n",
       "      <th>4</th>\n",
       "      <td>593</td>\n",
       "      <td>TED2006</td>\n",
       "      <td>Hans Rosling</td>\n",
       "      <td>The best stats you've ever seen</td>\n",
       "      <td>Global health expert; data visionary</td>\n",
       "      <td>12005869</td>\n",
       "      <td>28-06-2006</td>\n",
       "    </tr>\n",
       "  </tbody>\n",
       "</table>\n",
       "</div>"
      ],
      "text/plain": [
       "      comments          event  main_speaker  \\\n",
       "784        342     TEDxChange  Hans Rosling   \n",
       "447        125        TED2009  Hans Rosling   \n",
       "502        122      TED@State  Hans Rosling   \n",
       "558        276  TEDIndia 2009  Hans Rosling   \n",
       "1236       491     TEDxSummit  Hans Rosling   \n",
       "893        268  TEDWomen 2010  Hans Rosling   \n",
       "726        607     TED@Cannes  Hans Rosling   \n",
       "117        261        TED2007  Hans Rosling   \n",
       "4          593        TED2006  Hans Rosling   \n",
       "\n",
       "                                                  title  \\\n",
       "784   The good news of the decade? We're winning the...   \n",
       "447           Insights on HIV, in stunning data visuals   \n",
       "502                  Let my dataset change your mindset   \n",
       "558                         Asia's rise -- how and when   \n",
       "1236                               Religions and babies   \n",
       "893                           The magic washing machine   \n",
       "726                Global population growth, box by box   \n",
       "117                             New insights on poverty   \n",
       "4                       The best stats you've ever seen   \n",
       "\n",
       "                        speaker_occupation     views published_date  \n",
       "784   Global health expert; data visionary    738895     07-10-2010  \n",
       "447   Global health expert; data visionary    904813     13-05-2009  \n",
       "502   Global health expert; data visionary   1471039     27-08-2009  \n",
       "558   Global health expert; data visionary   1738069     23-11-2009  \n",
       "1236  Global health expert; data visionary   2138419     22-05-2012  \n",
       "893   Global health expert; data visionary   2391977     21-03-2011  \n",
       "726   Global health expert; data visionary   2934262     09-07-2010  \n",
       "117   Global health expert; data visionary   3243784     25-06-2007  \n",
       "4     Global health expert; data visionary  12005869     28-06-2006  "
      ]
     },
     "execution_count": 14,
     "metadata": {},
     "output_type": "execute_result"
    },
    {
     "data": {
      "image/png": "[encoded data removed]",
      "text/plain": [
       "<Figure size 1224x432 with 1 Axes>"
      ]
     },
     "metadata": {
      "needs_background": "light"
     },
     "output_type": "display_data"
    }
   ],
   "source": [
    "fig,ax=plt.subplots(figsize=(17,6))\n",
    "a=sns.barplot(y=df1_new['main_speaker'].value_counts(ascending=False).head(10).index, \n",
    "              x=df1_new['main_speaker'].value_counts(ascending=False).head(10).values, ax=ax, palette='afmhot')\n",
    "a.set(title=\"top 10 speakers perform more than once\")\n",
    "\n",
    "df1_new[df1_new.main_speaker=='Hans Rosling'].sort_values(by='views')\n"
   ]
  },
  {
   "cell_type": "markdown",
   "metadata": {},
   "source": [
    "#### Hans Rosling first position for speakers that giving speech more than once, he had been speeched for 9 times. he was Global health expert and his first speech watched more than 12million. in mean time, health global issues had been so popular these years"
   ]
  },
  {
   "cell_type": "markdown",
   "metadata": {},
   "source": [
    "### Events"
   ]
  },
  {
   "cell_type": "code",
   "execution_count": 15,
   "metadata": {},
   "outputs": [
    {
     "data": {
      "text/plain": [
       "[Text(0.5, 1.0, 'top 15 most held yearly event')]"
      ]
     },
     "execution_count": 15,
     "metadata": {},
     "output_type": "execute_result"
    },
    {
     "data": {
      "image/png": "[encoded data removed]",
      "text/plain": [
       "<Figure size 1224x360 with 1 Axes>"
      ]
     },
     "metadata": {
      "needs_background": "light"
     },
     "output_type": "display_data"
    }
   ],
   "source": [
    "fig,ax=plt.subplots(figsize=(17,5))\n",
    "b=sns.barplot(y=df1_new['event'].value_counts(ascending=False).head(15).index, \n",
    "            x=df1_new['event'].value_counts(ascending=False).head(15).values, ax=ax, palette='afmhot')\n",
    "b.set(title='top 15 most held yearly event')"
   ]
  },
  {
   "cell_type": "markdown",
   "metadata": {},
   "source": [
    "#### Based on event, TED2014 and TED2019 held more than 80 times, but accumulative in general year TED had been held more than 300 times in 2012 (graph time series below)"
   ]
  },
  {
   "cell_type": "code",
   "execution_count": 16,
   "metadata": {},
   "outputs": [
    {
     "name": "stderr",
     "output_type": "stream",
     "text": [
      "C:\\Users\\User\\Anaconda3\\lib\\site-packages\\ipykernel_launcher.py:1: SettingWithCopyWarning: \n",
      "A value is trying to be set on a copy of a slice from a DataFrame.\n",
      "Try using .loc[row_indexer,col_indexer] = value instead\n",
      "\n",
      "See the caveats in the documentation: http://pandas.pydata.org/pandas-docs/stable/indexing.html#indexing-view-versus-copy\n",
      "  \"\"\"Entry point for launching an IPython kernel.\n"
     ]
    },
    {
     "data": {
      "text/plain": [
       "<matplotlib.axes._subplots.AxesSubplot at 0x1beeef98f60>"
      ]
     },
     "execution_count": 16,
     "metadata": {},
     "output_type": "execute_result"
    },
    {
     "data": {
      "image/png": "[encoded data removed]",
      "text/plain": [
       "<Figure size 1224x504 with 1 Axes>"
      ]
     },
     "metadata": {
      "needs_background": "light"
     },
     "output_type": "display_data"
    }
   ],
   "source": [
    "df1_new['year']=df1_new['published_date'].apply(lambda x: x[-4:])\n",
    "ig,ax=plt.subplots(figsize=(17,7))\n",
    "sns.lineplot(x=df1_new['year'].value_counts().index,y=df1_new['year'].value_counts().values, marker='o')"
   ]
  },
  {
   "cell_type": "markdown",
   "metadata": {},
   "source": [
    "### Views and Comments"
   ]
  },
  {
   "cell_type": "code",
   "execution_count": 17,
   "metadata": {},
   "outputs": [
    {
     "data": {
      "text/plain": [
       "[Text(0.5, 1.0, 'top 10 most watched based on title')]"
      ]
     },
     "execution_count": 17,
     "metadata": {},
     "output_type": "execute_result"
    },
    {
     "data": {
      "image/png": "[encoded data removed]",
      "text/plain": [
       "<Figure size 1224x504 with 1 Axes>"
      ]
     },
     "metadata": {
      "needs_background": "light"
     },
     "output_type": "display_data"
    }
   ],
   "source": [
    "fig,ax=plt.subplots(figsize=(17,7))\n",
    "d=sns.barplot(x=df1_new[df1_new['views']>1000000].sort_values(by='views', ascending=False).head(10)['views'],\n",
    "              y=df1_new[df1_new['views']>1000000].sort_values(by='views', ascending=False).head(10)['title'],palette='afmhot', ax=ax)\n",
    "d.set(xlim=(15000000,50000000))\n",
    "d.set(title='top 10 most watched based on title')"
   ]
  },
  {
   "cell_type": "code",
   "execution_count": 18,
   "metadata": {},
   "outputs": [
    {
     "data": {
      "text/html": [
       "<div>\n",
       "<style scoped>\n",
       "    .dataframe tbody tr th:only-of-type {\n",
       "        vertical-align: middle;\n",
       "    }\n",
       "\n",
       "    .dataframe tbody tr th {\n",
       "        vertical-align: top;\n",
       "    }\n",
       "\n",
       "    .dataframe thead th {\n",
       "        text-align: right;\n",
       "    }\n",
       "</style>\n",
       "<table border=\"1\" class=\"dataframe\">\n",
       "  <thead>\n",
       "    <tr style=\"text-align: right;\">\n",
       "      <th></th>\n",
       "      <th>comments</th>\n",
       "      <th>event</th>\n",
       "      <th>main_speaker</th>\n",
       "      <th>title</th>\n",
       "      <th>speaker_occupation</th>\n",
       "      <th>views</th>\n",
       "      <th>published_date</th>\n",
       "      <th>year</th>\n",
       "    </tr>\n",
       "  </thead>\n",
       "  <tbody>\n",
       "    <tr>\n",
       "      <th>0</th>\n",
       "      <td>4553</td>\n",
       "      <td>TED2006</td>\n",
       "      <td>Ken Robinson</td>\n",
       "      <td>Do schools kill creativity?</td>\n",
       "      <td>Author/educator</td>\n",
       "      <td>47227110</td>\n",
       "      <td>27-06-2006</td>\n",
       "      <td>2006</td>\n",
       "    </tr>\n",
       "    <tr>\n",
       "      <th>1343</th>\n",
       "      <td>2290</td>\n",
       "      <td>TEDGlobal 2012</td>\n",
       "      <td>Amy Cuddy</td>\n",
       "      <td>Your body language may shape who you are</td>\n",
       "      <td>Social psychologist</td>\n",
       "      <td>43155405</td>\n",
       "      <td>01-10-2012</td>\n",
       "      <td>2012</td>\n",
       "    </tr>\n",
       "    <tr>\n",
       "      <th>677</th>\n",
       "      <td>1930</td>\n",
       "      <td>TEDxPuget Sound</td>\n",
       "      <td>Simon Sinek</td>\n",
       "      <td>How great leaders inspire action</td>\n",
       "      <td>Leadership expert</td>\n",
       "      <td>34309432</td>\n",
       "      <td>04-05-2010</td>\n",
       "      <td>2010</td>\n",
       "    </tr>\n",
       "    <tr>\n",
       "      <th>837</th>\n",
       "      <td>1927</td>\n",
       "      <td>TEDxHouston</td>\n",
       "      <td>Brené Brown</td>\n",
       "      <td>The power of vulnerability</td>\n",
       "      <td>Vulnerability researcher</td>\n",
       "      <td>31168150</td>\n",
       "      <td>23-12-2010</td>\n",
       "      <td>2010</td>\n",
       "    </tr>\n",
       "    <tr>\n",
       "      <th>201</th>\n",
       "      <td>2877</td>\n",
       "      <td>TED2008</td>\n",
       "      <td>Jill Bolte Taylor</td>\n",
       "      <td>My stroke of insight</td>\n",
       "      <td>Neuroanatomist</td>\n",
       "      <td>21190883</td>\n",
       "      <td>12-03-2008</td>\n",
       "      <td>2008</td>\n",
       "    </tr>\n",
       "    <tr>\n",
       "      <th>5</th>\n",
       "      <td>672</td>\n",
       "      <td>TED2006</td>\n",
       "      <td>Tony Robbins</td>\n",
       "      <td>Why we do what we do</td>\n",
       "      <td>Life coach; expert in leadership psychology</td>\n",
       "      <td>20685401</td>\n",
       "      <td>28-06-2006</td>\n",
       "      <td>2006</td>\n",
       "    </tr>\n",
       "    <tr>\n",
       "      <th>1413</th>\n",
       "      <td>846</td>\n",
       "      <td>TEDxMidAtlantic</td>\n",
       "      <td>Cameron Russell</td>\n",
       "      <td>Looks aren't everything. Believe me, I'm a model.</td>\n",
       "      <td>Model</td>\n",
       "      <td>19787465</td>\n",
       "      <td>16-01-2013</td>\n",
       "      <td>2013</td>\n",
       "    </tr>\n",
       "    <tr>\n",
       "      <th>500</th>\n",
       "      <td>1094</td>\n",
       "      <td>TEDGlobal 2009</td>\n",
       "      <td>Dan Pink</td>\n",
       "      <td>The puzzle of motivation</td>\n",
       "      <td>Career analyst</td>\n",
       "      <td>18830983</td>\n",
       "      <td>24-08-2009</td>\n",
       "      <td>2009</td>\n",
       "    </tr>\n",
       "    <tr>\n",
       "      <th>1162</th>\n",
       "      <td>1155</td>\n",
       "      <td>TED2012</td>\n",
       "      <td>Susan Cain</td>\n",
       "      <td>The power of introverts</td>\n",
       "      <td>Quiet revolutionary</td>\n",
       "      <td>17629275</td>\n",
       "      <td>03-03-2012</td>\n",
       "      <td>2012</td>\n",
       "    </tr>\n",
       "    <tr>\n",
       "      <th>1036</th>\n",
       "      <td>561</td>\n",
       "      <td>TEDGlobal 2011</td>\n",
       "      <td>Pamela Meyer</td>\n",
       "      <td>How to spot a liar</td>\n",
       "      <td>Lie detector</td>\n",
       "      <td>16861578</td>\n",
       "      <td>13-10-2011</td>\n",
       "      <td>2011</td>\n",
       "    </tr>\n",
       "  </tbody>\n",
       "</table>\n",
       "</div>"
      ],
      "text/plain": [
       "      comments             event       main_speaker  \\\n",
       "0         4553           TED2006       Ken Robinson   \n",
       "1343      2290    TEDGlobal 2012          Amy Cuddy   \n",
       "677       1930  TEDxPuget Sound         Simon Sinek   \n",
       "837       1927       TEDxHouston        Brené Brown   \n",
       "201       2877           TED2008  Jill Bolte Taylor   \n",
       "5          672           TED2006       Tony Robbins   \n",
       "1413       846   TEDxMidAtlantic    Cameron Russell   \n",
       "500       1094    TEDGlobal 2009           Dan Pink   \n",
       "1162      1155           TED2012         Susan Cain   \n",
       "1036       561    TEDGlobal 2011       Pamela Meyer   \n",
       "\n",
       "                                                  title  \\\n",
       "0                           Do schools kill creativity?   \n",
       "1343           Your body language may shape who you are   \n",
       "677                    How great leaders inspire action   \n",
       "837                          The power of vulnerability   \n",
       "201                                My stroke of insight   \n",
       "5                                  Why we do what we do   \n",
       "1413  Looks aren't everything. Believe me, I'm a model.   \n",
       "500                            The puzzle of motivation   \n",
       "1162                            The power of introverts   \n",
       "1036                                 How to spot a liar   \n",
       "\n",
       "                               speaker_occupation     views published_date  \\\n",
       "0                                 Author/educator  47227110     27-06-2006   \n",
       "1343                          Social psychologist  43155405     01-10-2012   \n",
       "677                             Leadership expert  34309432     04-05-2010   \n",
       "837                      Vulnerability researcher  31168150     23-12-2010   \n",
       "201                                Neuroanatomist  21190883     12-03-2008   \n",
       "5     Life coach; expert in leadership psychology  20685401     28-06-2006   \n",
       "1413                                        Model  19787465     16-01-2013   \n",
       "500                                Career analyst  18830983     24-08-2009   \n",
       "1162                          Quiet revolutionary  17629275     03-03-2012   \n",
       "1036                                 Lie detector  16861578     13-10-2011   \n",
       "\n",
       "      year  \n",
       "0     2006  \n",
       "1343  2012  \n",
       "677   2010  \n",
       "837   2010  \n",
       "201   2008  \n",
       "5     2006  \n",
       "1413  2013  \n",
       "500   2009  \n",
       "1162  2012  \n",
       "1036  2011  "
      ]
     },
     "execution_count": 18,
     "metadata": {},
     "output_type": "execute_result"
    }
   ],
   "source": [
    "df1_new[df1_new['comments']>500].sort_values(by='views',ascending=False).head(10)"
   ]
  },
  {
   "cell_type": "markdown",
   "metadata": {},
   "source": [
    "#### Based on the views, the title look interesting and extraordinary"
   ]
  },
  {
   "cell_type": "code",
   "execution_count": 19,
   "metadata": {},
   "outputs": [
    {
     "data": {
      "text/plain": [
       "[Text(0.5, 1.0, 'top 10 most commented based on title')]"
      ]
     },
     "execution_count": 19,
     "metadata": {},
     "output_type": "execute_result"
    },
    {
     "data": {
      "image/png": "[encoded data removed]",
      "text/plain": [
       "<Figure size 1224x504 with 1 Axes>"
      ]
     },
     "metadata": {
      "needs_background": "light"
     },
     "output_type": "display_data"
    }
   ],
   "source": [
    "fig,ax=plt.subplots(figsize=(17,7))\n",
    "e=sns.barplot(y=df1_new.sort_values(by='comments', ascending=False)['title'].head(10).values,\n",
    "            x=df1_new.sort_values(by='comments', ascending=False)['comments'].head(10).values, palette='afmhot', ax=ax)\n",
    "e.set(title='top 10 most commented based on title')\n"
   ]
  },
  {
   "cell_type": "markdown",
   "metadata": {},
   "source": [
    "#### Based on the most commented is about faith or what people believe, total commented more than 6000 (it doesnt disclose the type of the comment: is it a respond to the TED video or a respond to another comment from another user)"
   ]
  },
  {
   "cell_type": "markdown",
   "metadata": {},
   "source": [
    "### Most Watched in few years"
   ]
  },
  {
   "cell_type": "markdown",
   "metadata": {},
   "source": [
    "# Recommendation System based on Tags"
   ]
  },
  {
   "cell_type": "markdown",
   "metadata": {},
   "source": [
    "### clean the tags"
   ]
  },
  {
   "cell_type": "code",
   "execution_count": 20,
   "metadata": {},
   "outputs": [],
   "source": [
    "import re"
   ]
  },
  {
   "cell_type": "code",
   "execution_count": 21,
   "metadata": {},
   "outputs": [],
   "source": [
    "def clean_text(x):\n",
    "    letter_only=re.sub(\"[^a-zA-Z]\", \" \", x)\n",
    "    return ' '.join(letter_only.split()).lower()"
   ]
  },
  {
   "cell_type": "code",
   "execution_count": 22,
   "metadata": {},
   "outputs": [
    {
     "name": "stderr",
     "output_type": "stream",
     "text": [
      "C:\\Users\\User\\Anaconda3\\lib\\site-packages\\ipykernel_launcher.py:1: SettingWithCopyWarning: \n",
      "A value is trying to be set on a copy of a slice from a DataFrame.\n",
      "Try using .loc[row_indexer,col_indexer] = value instead\n",
      "\n",
      "See the caveats in the documentation: http://pandas.pydata.org/pandas-docs/stable/indexing.html#indexing-view-versus-copy\n",
      "  \"\"\"Entry point for launching an IPython kernel.\n",
      "C:\\Users\\User\\Anaconda3\\lib\\site-packages\\pandas\\core\\generic.py:5096: SettingWithCopyWarning: \n",
      "A value is trying to be set on a copy of a slice from a DataFrame.\n",
      "Try using .loc[row_indexer,col_indexer] = value instead\n",
      "\n",
      "See the caveats in the documentation: http://pandas.pydata.org/pandas-docs/stable/indexing.html#indexing-view-versus-copy\n",
      "  self[name] = value\n"
     ]
    }
   ],
   "source": [
    "df1_new['tags']=df1['tags']\n",
    "df1_new.tags=df1_new.tags.astype('str')"
   ]
  },
  {
   "cell_type": "code",
   "execution_count": 23,
   "metadata": {},
   "outputs": [
    {
     "name": "stderr",
     "output_type": "stream",
     "text": [
      "C:\\Users\\User\\Anaconda3\\lib\\site-packages\\ipykernel_launcher.py:1: SettingWithCopyWarning: \n",
      "A value is trying to be set on a copy of a slice from a DataFrame.\n",
      "Try using .loc[row_indexer,col_indexer] = value instead\n",
      "\n",
      "See the caveats in the documentation: http://pandas.pydata.org/pandas-docs/stable/indexing.html#indexing-view-versus-copy\n",
      "  \"\"\"Entry point for launching an IPython kernel.\n"
     ]
    }
   ],
   "source": [
    "df1_new['tags']=df1_new['tags'].apply(clean_text)"
   ]
  },
  {
   "cell_type": "code",
   "execution_count": 24,
   "metadata": {},
   "outputs": [
    {
     "data": {
      "text/html": [
       "<div>\n",
       "<style scoped>\n",
       "    .dataframe tbody tr th:only-of-type {\n",
       "        vertical-align: middle;\n",
       "    }\n",
       "\n",
       "    .dataframe tbody tr th {\n",
       "        vertical-align: top;\n",
       "    }\n",
       "\n",
       "    .dataframe thead th {\n",
       "        text-align: right;\n",
       "    }\n",
       "</style>\n",
       "<table border=\"1\" class=\"dataframe\">\n",
       "  <thead>\n",
       "    <tr style=\"text-align: right;\">\n",
       "      <th></th>\n",
       "      <th>comments</th>\n",
       "      <th>event</th>\n",
       "      <th>main_speaker</th>\n",
       "      <th>title</th>\n",
       "      <th>speaker_occupation</th>\n",
       "      <th>views</th>\n",
       "      <th>published_date</th>\n",
       "      <th>year</th>\n",
       "      <th>tags</th>\n",
       "    </tr>\n",
       "  </thead>\n",
       "  <tbody>\n",
       "    <tr>\n",
       "      <th>0</th>\n",
       "      <td>4553</td>\n",
       "      <td>TED2006</td>\n",
       "      <td>Ken Robinson</td>\n",
       "      <td>Do schools kill creativity?</td>\n",
       "      <td>Author/educator</td>\n",
       "      <td>47227110</td>\n",
       "      <td>27-06-2006</td>\n",
       "      <td>2006</td>\n",
       "      <td>children creativity culture dance education pa...</td>\n",
       "    </tr>\n",
       "    <tr>\n",
       "      <th>1</th>\n",
       "      <td>265</td>\n",
       "      <td>TED2006</td>\n",
       "      <td>Al Gore</td>\n",
       "      <td>Averting the climate crisis</td>\n",
       "      <td>Climate advocate</td>\n",
       "      <td>3200520</td>\n",
       "      <td>27-06-2006</td>\n",
       "      <td>2006</td>\n",
       "      <td>alternative energy cars climate change culture...</td>\n",
       "    </tr>\n",
       "  </tbody>\n",
       "</table>\n",
       "</div>"
      ],
      "text/plain": [
       "   comments    event  main_speaker                        title  \\\n",
       "0      4553  TED2006  Ken Robinson  Do schools kill creativity?   \n",
       "1       265  TED2006       Al Gore  Averting the climate crisis   \n",
       "\n",
       "  speaker_occupation     views published_date  year  \\\n",
       "0    Author/educator  47227110     27-06-2006  2006   \n",
       "1   Climate advocate   3200520     27-06-2006  2006   \n",
       "\n",
       "                                                tags  \n",
       "0  children creativity culture dance education pa...  \n",
       "1  alternative energy cars climate change culture...  "
      ]
     },
     "execution_count": 24,
     "metadata": {},
     "output_type": "execute_result"
    }
   ],
   "source": [
    "df1_new.head(2)"
   ]
  },
  {
   "cell_type": "markdown",
   "metadata": {},
   "source": [
    "### Convert to sparse matrix using count vectorize"
   ]
  },
  {
   "cell_type": "code",
   "execution_count": 25,
   "metadata": {},
   "outputs": [],
   "source": [
    "from sklearn.feature_extraction.text import CountVectorizer"
   ]
  },
  {
   "cell_type": "code",
   "execution_count": 26,
   "metadata": {},
   "outputs": [],
   "source": [
    "cv=CountVectorizer()\n",
    "cv_tags=cv.fit_transform(df1_new['tags'])\n",
    "#df_tags=pd.DataFrame(cv_tags.todense(), columns=cv.get_feature_names(), index=df1_new['title'])"
   ]
  },
  {
   "cell_type": "markdown",
   "metadata": {},
   "source": [
    "### using Cosine Similarity"
   ]
  },
  {
   "cell_type": "code",
   "execution_count": 27,
   "metadata": {},
   "outputs": [],
   "source": [
    "from sklearn.metrics.pairwise import cosine_similarity"
   ]
  },
  {
   "cell_type": "code",
   "execution_count": 28,
   "metadata": {},
   "outputs": [],
   "source": [
    "cos_sim=cosine_similarity(cv_tags)"
   ]
  },
  {
   "cell_type": "code",
   "execution_count": 29,
   "metadata": {},
   "outputs": [],
   "source": [
    "def get_recommendation_based_title(x):\n",
    "    index_to_search = df1_new[df1_new['title']==x].index[0]\n",
    "    series_similar=pd.Series(cos_sim[index_to_search])\n",
    "    index_similar=series_similar.sort_values(ascending=False).head(10).index\n",
    "    return df1_new.loc[index_similar]"
   ]
  },
  {
   "cell_type": "code",
   "execution_count": 30,
   "metadata": {},
   "outputs": [
    {
     "data": {
      "text/html": [
       "<div>\n",
       "<style scoped>\n",
       "    .dataframe tbody tr th:only-of-type {\n",
       "        vertical-align: middle;\n",
       "    }\n",
       "\n",
       "    .dataframe tbody tr th {\n",
       "        vertical-align: top;\n",
       "    }\n",
       "\n",
       "    .dataframe thead th {\n",
       "        text-align: right;\n",
       "    }\n",
       "</style>\n",
       "<table border=\"1\" class=\"dataframe\">\n",
       "  <thead>\n",
       "    <tr style=\"text-align: right;\">\n",
       "      <th></th>\n",
       "      <th>comments</th>\n",
       "      <th>event</th>\n",
       "      <th>main_speaker</th>\n",
       "      <th>title</th>\n",
       "      <th>speaker_occupation</th>\n",
       "      <th>views</th>\n",
       "      <th>published_date</th>\n",
       "      <th>year</th>\n",
       "      <th>tags</th>\n",
       "    </tr>\n",
       "  </thead>\n",
       "  <tbody>\n",
       "    <tr>\n",
       "      <th>0</th>\n",
       "      <td>4553</td>\n",
       "      <td>TED2006</td>\n",
       "      <td>Ken Robinson</td>\n",
       "      <td>Do schools kill creativity?</td>\n",
       "      <td>Author/educator</td>\n",
       "      <td>47227110</td>\n",
       "      <td>27-06-2006</td>\n",
       "      <td>2006</td>\n",
       "      <td>children creativity culture dance education pa...</td>\n",
       "    </tr>\n",
       "    <tr>\n",
       "      <th>1417</th>\n",
       "      <td>818</td>\n",
       "      <td>TEDxMidAtlantic</td>\n",
       "      <td>Colin Powell</td>\n",
       "      <td>Kids need structure</td>\n",
       "      <td>Former U.S. Secretary of State</td>\n",
       "      <td>1485801</td>\n",
       "      <td>23-01-2013</td>\n",
       "      <td>2013</td>\n",
       "      <td>tedx children culture education parenting stud...</td>\n",
       "    </tr>\n",
       "    <tr>\n",
       "      <th>1495</th>\n",
       "      <td>120</td>\n",
       "      <td>TED Talks Education</td>\n",
       "      <td>Pearl Arredondo</td>\n",
       "      <td>My story, from gangland daughter to star teacher</td>\n",
       "      <td>Teacher</td>\n",
       "      <td>1059278</td>\n",
       "      <td>08-05-2013</td>\n",
       "      <td>2013</td>\n",
       "      <td>children education teaching</td>\n",
       "    </tr>\n",
       "    <tr>\n",
       "      <th>280</th>\n",
       "      <td>174</td>\n",
       "      <td>LIFT 2007</td>\n",
       "      <td>Sugata Mitra</td>\n",
       "      <td>Kids can teach themselves</td>\n",
       "      <td>Education researcher</td>\n",
       "      <td>1486853</td>\n",
       "      <td>27-08-2008</td>\n",
       "      <td>2008</td>\n",
       "      <td>children cities culture education global issue...</td>\n",
       "    </tr>\n",
       "    <tr>\n",
       "      <th>830</th>\n",
       "      <td>301</td>\n",
       "      <td>TEDxMidAtlantic</td>\n",
       "      <td>Diana Laufenberg</td>\n",
       "      <td>How to learn? From mistakes</td>\n",
       "      <td>Educator</td>\n",
       "      <td>1882742</td>\n",
       "      <td>15-12-2010</td>\n",
       "      <td>2010</td>\n",
       "      <td>tedx children culture education</td>\n",
       "    </tr>\n",
       "    <tr>\n",
       "      <th>1490</th>\n",
       "      <td>632</td>\n",
       "      <td>TED Talks Education</td>\n",
       "      <td>Rita Pierson</td>\n",
       "      <td>Every kid needs a champion</td>\n",
       "      <td>Educator</td>\n",
       "      <td>7469445</td>\n",
       "      <td>03-05-2013</td>\n",
       "      <td>2013</td>\n",
       "      <td>children education motivation teaching</td>\n",
       "    </tr>\n",
       "    <tr>\n",
       "      <th>654</th>\n",
       "      <td>795</td>\n",
       "      <td>TED2010</td>\n",
       "      <td>Adora Svitak</td>\n",
       "      <td>What adults can learn from kids</td>\n",
       "      <td>Child prodigy</td>\n",
       "      <td>4782854</td>\n",
       "      <td>02-04-2010</td>\n",
       "      <td>2010</td>\n",
       "      <td>children creativity education intelligence</td>\n",
       "    </tr>\n",
       "    <tr>\n",
       "      <th>1585</th>\n",
       "      <td>313</td>\n",
       "      <td>TED2013</td>\n",
       "      <td>James Flynn</td>\n",
       "      <td>Why our IQ levels are higher than our grandpar...</td>\n",
       "      <td>Moral philosopher</td>\n",
       "      <td>2991225</td>\n",
       "      <td>26-09-2013</td>\n",
       "      <td>2013</td>\n",
       "      <td>culture education</td>\n",
       "    </tr>\n",
       "    <tr>\n",
       "      <th>1023</th>\n",
       "      <td>155</td>\n",
       "      <td>TEDGlobal 2011</td>\n",
       "      <td>Geoff Mulgan</td>\n",
       "      <td>A short intro to the Studio School</td>\n",
       "      <td>Social commentator</td>\n",
       "      <td>667985</td>\n",
       "      <td>27-09-2011</td>\n",
       "      <td>2011</td>\n",
       "      <td>creativity culture design education work</td>\n",
       "    </tr>\n",
       "    <tr>\n",
       "      <th>1499</th>\n",
       "      <td>634</td>\n",
       "      <td>TED Talks Education</td>\n",
       "      <td>Ken Robinson</td>\n",
       "      <td>How to escape education's death valley</td>\n",
       "      <td>Author/educator</td>\n",
       "      <td>6657858</td>\n",
       "      <td>10-05-2013</td>\n",
       "      <td>2013</td>\n",
       "      <td>culture education student teaching testing</td>\n",
       "    </tr>\n",
       "  </tbody>\n",
       "</table>\n",
       "</div>"
      ],
      "text/plain": [
       "      comments                event      main_speaker  \\\n",
       "0         4553              TED2006      Ken Robinson   \n",
       "1417       818      TEDxMidAtlantic      Colin Powell   \n",
       "1495       120  TED Talks Education   Pearl Arredondo   \n",
       "280        174            LIFT 2007      Sugata Mitra   \n",
       "830        301      TEDxMidAtlantic  Diana Laufenberg   \n",
       "1490       632  TED Talks Education      Rita Pierson   \n",
       "654        795              TED2010      Adora Svitak   \n",
       "1585       313              TED2013       James Flynn   \n",
       "1023       155       TEDGlobal 2011      Geoff Mulgan   \n",
       "1499       634  TED Talks Education      Ken Robinson   \n",
       "\n",
       "                                                  title  \\\n",
       "0                           Do schools kill creativity?   \n",
       "1417                                Kids need structure   \n",
       "1495   My story, from gangland daughter to star teacher   \n",
       "280                           Kids can teach themselves   \n",
       "830                         How to learn? From mistakes   \n",
       "1490                         Every kid needs a champion   \n",
       "654                     What adults can learn from kids   \n",
       "1585  Why our IQ levels are higher than our grandpar...   \n",
       "1023                 A short intro to the Studio School   \n",
       "1499             How to escape education's death valley   \n",
       "\n",
       "                  speaker_occupation     views published_date  year  \\\n",
       "0                    Author/educator  47227110     27-06-2006  2006   \n",
       "1417  Former U.S. Secretary of State   1485801     23-01-2013  2013   \n",
       "1495                         Teacher   1059278     08-05-2013  2013   \n",
       "280             Education researcher   1486853     27-08-2008  2008   \n",
       "830                         Educator   1882742     15-12-2010  2010   \n",
       "1490                        Educator   7469445     03-05-2013  2013   \n",
       "654                    Child prodigy   4782854     02-04-2010  2010   \n",
       "1585               Moral philosopher   2991225     26-09-2013  2013   \n",
       "1023              Social commentator    667985     27-09-2011  2011   \n",
       "1499                 Author/educator   6657858     10-05-2013  2013   \n",
       "\n",
       "                                                   tags  \n",
       "0     children creativity culture dance education pa...  \n",
       "1417  tedx children culture education parenting stud...  \n",
       "1495                        children education teaching  \n",
       "280   children cities culture education global issue...  \n",
       "830                     tedx children culture education  \n",
       "1490             children education motivation teaching  \n",
       "654          children creativity education intelligence  \n",
       "1585                                  culture education  \n",
       "1023           creativity culture design education work  \n",
       "1499         culture education student teaching testing  "
      ]
     },
     "execution_count": 30,
     "metadata": {},
     "output_type": "execute_result"
    }
   ],
   "source": [
    "get_recommendation_based_title('Do schools kill creativity?')"
   ]
  },
  {
   "cell_type": "code",
   "execution_count": 31,
   "metadata": {},
   "outputs": [],
   "source": [
    "def get_recommendation_based_speakers(x):\n",
    "    index_to_search = df1_new[df1_new['main_speaker']==x].index[0]\n",
    "    series_similar=pd.Series(cos_sim[index_to_search])\n",
    "    index_similar=series_similar.sort_values(ascending=False).head(10).index\n",
    "    return df1_new.loc[index_similar]"
   ]
  },
  {
   "cell_type": "code",
   "execution_count": 32,
   "metadata": {},
   "outputs": [
    {
     "data": {
      "text/html": [
       "<div>\n",
       "<style scoped>\n",
       "    .dataframe tbody tr th:only-of-type {\n",
       "        vertical-align: middle;\n",
       "    }\n",
       "\n",
       "    .dataframe tbody tr th {\n",
       "        vertical-align: top;\n",
       "    }\n",
       "\n",
       "    .dataframe thead th {\n",
       "        text-align: right;\n",
       "    }\n",
       "</style>\n",
       "<table border=\"1\" class=\"dataframe\">\n",
       "  <thead>\n",
       "    <tr style=\"text-align: right;\">\n",
       "      <th></th>\n",
       "      <th>comments</th>\n",
       "      <th>event</th>\n",
       "      <th>main_speaker</th>\n",
       "      <th>title</th>\n",
       "      <th>speaker_occupation</th>\n",
       "      <th>views</th>\n",
       "      <th>published_date</th>\n",
       "      <th>year</th>\n",
       "      <th>tags</th>\n",
       "    </tr>\n",
       "  </thead>\n",
       "  <tbody>\n",
       "    <tr>\n",
       "      <th>4</th>\n",
       "      <td>593</td>\n",
       "      <td>TED2006</td>\n",
       "      <td>Hans Rosling</td>\n",
       "      <td>The best stats you've ever seen</td>\n",
       "      <td>Global health expert; data visionary</td>\n",
       "      <td>12005869</td>\n",
       "      <td>28-06-2006</td>\n",
       "      <td>2006</td>\n",
       "      <td>africa asia google demo economics global devel...</td>\n",
       "    </tr>\n",
       "    <tr>\n",
       "      <th>117</th>\n",
       "      <td>261</td>\n",
       "      <td>TED2007</td>\n",
       "      <td>Hans Rosling</td>\n",
       "      <td>New insights on poverty</td>\n",
       "      <td>Global health expert; data visionary</td>\n",
       "      <td>3243784</td>\n",
       "      <td>25-06-2007</td>\n",
       "      <td>2007</td>\n",
       "      <td>africa asia google economics global developmen...</td>\n",
       "    </tr>\n",
       "    <tr>\n",
       "      <th>502</th>\n",
       "      <td>122</td>\n",
       "      <td>TED@State</td>\n",
       "      <td>Hans Rosling</td>\n",
       "      <td>Let my dataset change your mindset</td>\n",
       "      <td>Global health expert; data visionary</td>\n",
       "      <td>1471039</td>\n",
       "      <td>27-08-2009</td>\n",
       "      <td>2009</td>\n",
       "      <td>africa asia data global development global iss...</td>\n",
       "    </tr>\n",
       "    <tr>\n",
       "      <th>1814</th>\n",
       "      <td>177</td>\n",
       "      <td>TEDSalon Berlin 2014</td>\n",
       "      <td>Hans and Ola Rosling</td>\n",
       "      <td>How not to be ignorant about the world</td>\n",
       "      <td>Global health expert; data visionary</td>\n",
       "      <td>3673455</td>\n",
       "      <td>11-09-2014</td>\n",
       "      <td>2014</td>\n",
       "      <td>global issues health statistics</td>\n",
       "    </tr>\n",
       "    <tr>\n",
       "      <th>122</th>\n",
       "      <td>136</td>\n",
       "      <td>TED2007</td>\n",
       "      <td>Emily Oster</td>\n",
       "      <td>Flip your thinking on AIDS in Africa</td>\n",
       "      <td>Assumption-busting economist</td>\n",
       "      <td>854967</td>\n",
       "      <td>12-07-2007</td>\n",
       "      <td>2007</td>\n",
       "      <td>aids africa economics global issues health sci...</td>\n",
       "    </tr>\n",
       "    <tr>\n",
       "      <th>127</th>\n",
       "      <td>97</td>\n",
       "      <td>TEDGlobal 2007</td>\n",
       "      <td>George Ayittey</td>\n",
       "      <td>Africa's cheetahs versus hippos</td>\n",
       "      <td>Economist</td>\n",
       "      <td>648234</td>\n",
       "      <td>30-07-2007</td>\n",
       "      <td>2007</td>\n",
       "      <td>africa business corruption economics entrepren...</td>\n",
       "    </tr>\n",
       "    <tr>\n",
       "      <th>1857</th>\n",
       "      <td>100</td>\n",
       "      <td>TEDGlobal 2014</td>\n",
       "      <td>Michael Green</td>\n",
       "      <td>What the Social Progress Index can reveal abou...</td>\n",
       "      <td>Social progress expert</td>\n",
       "      <td>1132771</td>\n",
       "      <td>11-11-2014</td>\n",
       "      <td>2014</td>\n",
       "      <td>economics global issues policy statistics</td>\n",
       "    </tr>\n",
       "    <tr>\n",
       "      <th>1094</th>\n",
       "      <td>119</td>\n",
       "      <td>TEDxCanberra</td>\n",
       "      <td>Thomas Pogge</td>\n",
       "      <td>Medicine for the 99 percent</td>\n",
       "      <td>Philosopher</td>\n",
       "      <td>242251</td>\n",
       "      <td>18-12-2011</td>\n",
       "      <td>2011</td>\n",
       "      <td>tedx economics global issues health</td>\n",
       "    </tr>\n",
       "    <tr>\n",
       "      <th>1604</th>\n",
       "      <td>207</td>\n",
       "      <td>TEDGlobal 2013</td>\n",
       "      <td>Charles Robertson</td>\n",
       "      <td>Africa's next boom</td>\n",
       "      <td>Emerging-markets economist</td>\n",
       "      <td>1204089</td>\n",
       "      <td>22-10-2013</td>\n",
       "      <td>2013</td>\n",
       "      <td>africa business economics global issues</td>\n",
       "    </tr>\n",
       "    <tr>\n",
       "      <th>234</th>\n",
       "      <td>139</td>\n",
       "      <td>TED2008</td>\n",
       "      <td>Paul Collier</td>\n",
       "      <td>The \"bottom billion\"</td>\n",
       "      <td>Economist</td>\n",
       "      <td>990220</td>\n",
       "      <td>28-05-2008</td>\n",
       "      <td>2008</td>\n",
       "      <td>africa activism business economics global deve...</td>\n",
       "    </tr>\n",
       "  </tbody>\n",
       "</table>\n",
       "</div>"
      ],
      "text/plain": [
       "      comments                 event          main_speaker  \\\n",
       "4          593               TED2006          Hans Rosling   \n",
       "117        261               TED2007          Hans Rosling   \n",
       "502        122             TED@State          Hans Rosling   \n",
       "1814       177  TEDSalon Berlin 2014  Hans and Ola Rosling   \n",
       "122        136               TED2007           Emily Oster   \n",
       "127         97        TEDGlobal 2007        George Ayittey   \n",
       "1857       100        TEDGlobal 2014         Michael Green   \n",
       "1094       119          TEDxCanberra          Thomas Pogge   \n",
       "1604       207        TEDGlobal 2013     Charles Robertson   \n",
       "234        139               TED2008          Paul Collier   \n",
       "\n",
       "                                                  title  \\\n",
       "4                       The best stats you've ever seen   \n",
       "117                             New insights on poverty   \n",
       "502                  Let my dataset change your mindset   \n",
       "1814             How not to be ignorant about the world   \n",
       "122                Flip your thinking on AIDS in Africa   \n",
       "127                     Africa's cheetahs versus hippos   \n",
       "1857  What the Social Progress Index can reveal abou...   \n",
       "1094                        Medicine for the 99 percent   \n",
       "1604                                 Africa's next boom   \n",
       "234                                The \"bottom billion\"   \n",
       "\n",
       "                        speaker_occupation     views published_date  year  \\\n",
       "4     Global health expert; data visionary  12005869     28-06-2006  2006   \n",
       "117   Global health expert; data visionary   3243784     25-06-2007  2007   \n",
       "502   Global health expert; data visionary   1471039     27-08-2009  2009   \n",
       "1814  Global health expert; data visionary   3673455     11-09-2014  2014   \n",
       "122           Assumption-busting economist    854967     12-07-2007  2007   \n",
       "127                              Economist    648234     30-07-2007  2007   \n",
       "1857                Social progress expert   1132771     11-11-2014  2014   \n",
       "1094                           Philosopher    242251     18-12-2011  2011   \n",
       "1604            Emerging-markets economist   1204089     22-10-2013  2013   \n",
       "234                              Economist    990220     28-05-2008  2008   \n",
       "\n",
       "                                                   tags  \n",
       "4     africa asia google demo economics global devel...  \n",
       "117   africa asia google economics global developmen...  \n",
       "502   africa asia data global development global iss...  \n",
       "1814                    global issues health statistics  \n",
       "122   aids africa economics global issues health sci...  \n",
       "127   africa business corruption economics entrepren...  \n",
       "1857          economics global issues policy statistics  \n",
       "1094                tedx economics global issues health  \n",
       "1604            africa business economics global issues  \n",
       "234   africa activism business economics global deve...  "
      ]
     },
     "execution_count": 32,
     "metadata": {},
     "output_type": "execute_result"
    }
   ],
   "source": [
    "get_recommendation_based_speakers('Hans Rosling')"
   ]
  },
  {
   "cell_type": "code",
   "execution_count": 33,
   "metadata": {},
   "outputs": [],
   "source": [
    "def get_recommendation_based_speaker_occupation(x):\n",
    "    index_to_search = df1_new[df1_new['speaker_occupation']==x].index[0]\n",
    "    series_similar=pd.Series(cos_sim[index_to_search])\n",
    "    index_similar=series_similar.sort_values(ascending=False).head(10).index\n",
    "    return df1_new.loc[index_similar]"
   ]
  },
  {
   "cell_type": "code",
   "execution_count": 34,
   "metadata": {},
   "outputs": [
    {
     "data": {
      "text/html": [
       "<div>\n",
       "<style scoped>\n",
       "    .dataframe tbody tr th:only-of-type {\n",
       "        vertical-align: middle;\n",
       "    }\n",
       "\n",
       "    .dataframe tbody tr th {\n",
       "        vertical-align: top;\n",
       "    }\n",
       "\n",
       "    .dataframe thead th {\n",
       "        text-align: right;\n",
       "    }\n",
       "</style>\n",
       "<table border=\"1\" class=\"dataframe\">\n",
       "  <thead>\n",
       "    <tr style=\"text-align: right;\">\n",
       "      <th></th>\n",
       "      <th>comments</th>\n",
       "      <th>event</th>\n",
       "      <th>main_speaker</th>\n",
       "      <th>title</th>\n",
       "      <th>speaker_occupation</th>\n",
       "      <th>views</th>\n",
       "      <th>published_date</th>\n",
       "      <th>year</th>\n",
       "      <th>tags</th>\n",
       "    </tr>\n",
       "  </thead>\n",
       "  <tbody>\n",
       "    <tr>\n",
       "      <th>78</th>\n",
       "      <td>84</td>\n",
       "      <td>TED2003</td>\n",
       "      <td>Vik Muniz</td>\n",
       "      <td>Art with wire, sugar, chocolate and string</td>\n",
       "      <td>Artist</td>\n",
       "      <td>1149090</td>\n",
       "      <td>05-04-2007</td>\n",
       "      <td>2007</td>\n",
       "      <td>brazil animation art creativity design illusion</td>\n",
       "    </tr>\n",
       "    <tr>\n",
       "      <th>959</th>\n",
       "      <td>281</td>\n",
       "      <td>TED2011</td>\n",
       "      <td>Shea Hembrey</td>\n",
       "      <td>How I became 100 artists</td>\n",
       "      <td>Artist and curator</td>\n",
       "      <td>1486880</td>\n",
       "      <td>14-06-2011</td>\n",
       "      <td>2011</td>\n",
       "      <td>art creativity design storytelling</td>\n",
       "    </tr>\n",
       "    <tr>\n",
       "      <th>1309</th>\n",
       "      <td>223</td>\n",
       "      <td>TEDGlobal 2012</td>\n",
       "      <td>Kirby Ferguson</td>\n",
       "      <td>Embrace the remix</td>\n",
       "      <td>Filmmaker and Remixer</td>\n",
       "      <td>1356163</td>\n",
       "      <td>10-08-2012</td>\n",
       "      <td>2012</td>\n",
       "      <td>art creativity</td>\n",
       "    </tr>\n",
       "    <tr>\n",
       "      <th>1151</th>\n",
       "      <td>181</td>\n",
       "      <td>INK Conference</td>\n",
       "      <td>Shilo Shiv Suleman</td>\n",
       "      <td>Using tech to enable dreaming</td>\n",
       "      <td>Artist</td>\n",
       "      <td>576918</td>\n",
       "      <td>22-02-2012</td>\n",
       "      <td>2012</td>\n",
       "      <td>art creativity</td>\n",
       "    </tr>\n",
       "    <tr>\n",
       "      <th>495</th>\n",
       "      <td>103</td>\n",
       "      <td>TEDGlobal 2009</td>\n",
       "      <td>Willard Wigan</td>\n",
       "      <td>Hold your breath for micro-sculpture</td>\n",
       "      <td>Micro-sculptor</td>\n",
       "      <td>640722</td>\n",
       "      <td>03-08-2009</td>\n",
       "      <td>2009</td>\n",
       "      <td>art creativity</td>\n",
       "    </tr>\n",
       "    <tr>\n",
       "      <th>382</th>\n",
       "      <td>21</td>\n",
       "      <td>TED1998</td>\n",
       "      <td>Milton Glaser</td>\n",
       "      <td>Using design to make ideas new</td>\n",
       "      <td>Graphic designer</td>\n",
       "      <td>382985</td>\n",
       "      <td>11-02-2009</td>\n",
       "      <td>2009</td>\n",
       "      <td>art communication creativity culture design</td>\n",
       "    </tr>\n",
       "    <tr>\n",
       "      <th>351</th>\n",
       "      <td>58</td>\n",
       "      <td>TED2001</td>\n",
       "      <td>Eva Zeisel</td>\n",
       "      <td>The playful search for beauty</td>\n",
       "      <td>Designer</td>\n",
       "      <td>438972</td>\n",
       "      <td>09-12-2008</td>\n",
       "      <td>2008</td>\n",
       "      <td>art creativity design exploration play</td>\n",
       "    </tr>\n",
       "    <tr>\n",
       "      <th>801</th>\n",
       "      <td>144</td>\n",
       "      <td>TEDGlobal 2010</td>\n",
       "      <td>Miwa Matreyek</td>\n",
       "      <td>Glorious visions in animation and performance</td>\n",
       "      <td>Multimedia artist</td>\n",
       "      <td>829399</td>\n",
       "      <td>29-10-2010</td>\n",
       "      <td>2010</td>\n",
       "      <td>animation art design performance technology</td>\n",
       "    </tr>\n",
       "    <tr>\n",
       "      <th>1571</th>\n",
       "      <td>257</td>\n",
       "      <td>TEDGlobal 2013</td>\n",
       "      <td>Alexa Meade</td>\n",
       "      <td>Your body is my canvas</td>\n",
       "      <td>Visual artist</td>\n",
       "      <td>2682427</td>\n",
       "      <td>06-09-2013</td>\n",
       "      <td>2013</td>\n",
       "      <td>art creativity design painting photography</td>\n",
       "    </tr>\n",
       "    <tr>\n",
       "      <th>2495</th>\n",
       "      <td>3</td>\n",
       "      <td>TEDNYC</td>\n",
       "      <td>Françoise Mouly</td>\n",
       "      <td>The stories behind The New Yorker's iconic covers</td>\n",
       "      <td>Art editor</td>\n",
       "      <td>839040</td>\n",
       "      <td>03-08-2017</td>\n",
       "      <td>2017</td>\n",
       "      <td>tednyc art creativity culture design humor</td>\n",
       "    </tr>\n",
       "  </tbody>\n",
       "</table>\n",
       "</div>"
      ],
      "text/plain": [
       "      comments           event        main_speaker  \\\n",
       "78          84         TED2003           Vik Muniz   \n",
       "959        281         TED2011        Shea Hembrey   \n",
       "1309       223  TEDGlobal 2012      Kirby Ferguson   \n",
       "1151       181  INK Conference  Shilo Shiv Suleman   \n",
       "495        103  TEDGlobal 2009       Willard Wigan   \n",
       "382         21         TED1998       Milton Glaser   \n",
       "351         58         TED2001          Eva Zeisel   \n",
       "801        144  TEDGlobal 2010       Miwa Matreyek   \n",
       "1571       257  TEDGlobal 2013         Alexa Meade   \n",
       "2495         3          TEDNYC     Françoise Mouly   \n",
       "\n",
       "                                                  title  \\\n",
       "78           Art with wire, sugar, chocolate and string   \n",
       "959                            How I became 100 artists   \n",
       "1309                                  Embrace the remix   \n",
       "1151                      Using tech to enable dreaming   \n",
       "495                Hold your breath for micro-sculpture   \n",
       "382                      Using design to make ideas new   \n",
       "351                       The playful search for beauty   \n",
       "801       Glorious visions in animation and performance   \n",
       "1571                             Your body is my canvas   \n",
       "2495  The stories behind The New Yorker's iconic covers   \n",
       "\n",
       "         speaker_occupation    views published_date  year  \\\n",
       "78                   Artist  1149090     05-04-2007  2007   \n",
       "959      Artist and curator  1486880     14-06-2011  2011   \n",
       "1309  Filmmaker and Remixer  1356163     10-08-2012  2012   \n",
       "1151                 Artist   576918     22-02-2012  2012   \n",
       "495          Micro-sculptor   640722     03-08-2009  2009   \n",
       "382        Graphic designer   382985     11-02-2009  2009   \n",
       "351                Designer   438972     09-12-2008  2008   \n",
       "801       Multimedia artist   829399     29-10-2010  2010   \n",
       "1571          Visual artist  2682427     06-09-2013  2013   \n",
       "2495             Art editor   839040     03-08-2017  2017   \n",
       "\n",
       "                                                 tags  \n",
       "78    brazil animation art creativity design illusion  \n",
       "959                art creativity design storytelling  \n",
       "1309                                   art creativity  \n",
       "1151                                   art creativity  \n",
       "495                                    art creativity  \n",
       "382       art communication creativity culture design  \n",
       "351            art creativity design exploration play  \n",
       "801       animation art design performance technology  \n",
       "1571       art creativity design painting photography  \n",
       "2495       tednyc art creativity culture design humor  "
      ]
     },
     "execution_count": 34,
     "metadata": {},
     "output_type": "execute_result"
    }
   ],
   "source": [
    "get_recommendation_based_speaker_occupation('Artist')"
   ]
  },
  {
   "cell_type": "markdown",
   "metadata": {},
   "source": [
    "#### Based on 3 function above, we can get reccomendation using title, main speakers and speakers occupation. to get the simlarity tags we are using count vectorizer to make the binary, and then transform it into numbers that can be count based on their cosine similarity to get their nearest tags"
   ]
  }
 ],
 "metadata": {
  "kernelspec": {
   "display_name": "Python 3",
   "language": "python",
   "name": "python3"
  },
  "language_info": {
   "codemirror_mode": {
    "name": "ipython",
    "version": 3
   },
   "file_extension": ".py",
   "mimetype": "text/x-python",
   "name": "python",
   "nbconvert_exporter": "python",
   "pygments_lexer": "ipython3",
   "version": "3.7.3"
  }
 },
 "nbformat": 4,
 "nbformat_minor": 2
}
